{
 "cells": [
  {
   "cell_type": "code",
   "execution_count": null,
   "id": "fe919df4-8adb-4e06-8844-33ae378854af",
   "metadata": {},
   "outputs": [],
   "source": [
    "Q1. Explain GET and POST methods."
   ]
  },
  {
   "cell_type": "code",
   "execution_count": null,
   "id": "a85c12c0-617d-457f-9189-d5935f7e7dd3",
   "metadata": {},
   "outputs": [],
   "source": [
    "In simple words,The GET method is used to retrieve data from a server, and the data is sent in the URL's query string whereas The POST method is used to submit data to a server and sends the data in the request body.\n",
    "\n",
    "GET Method:\n",
    "\n",
    "1)Used to request data from a server.\n",
    "\n",
    "2)Data is sent in the URL's query string.\n",
    "\n",
    "3)Idempotent (repeating the request doesn't change the server's state).\n",
    "\n",
    "4)Data is visible in the URL.\n",
    "\n",
    "5)Suitable for retrieving data and sharing links.\n",
    "\n",
    "GET /search?q=example HTTP/1.1 Host: www.example.com This request fetches data based on the search query example.\n",
    "\n",
    "POST Method:\n",
    "\n",
    "1)Used to submit data to a server for processing.\n",
    "\n",
    "2)Data is sent in the request body.\n",
    "\n",
    "3)Non-idempotent (repeating the request may cause different outcomes).\n",
    "\n",
    "4)More secure for sending sensitive data.\n",
    "\n",
    "5)Suitable for form submissions and data processing.\n",
    "\n",
    "POST /submit-form HTTP/1.1 Host: www.example.com Content-Type: application/x-www-form-urlencoded\n",
    "\n",
    "name=John&age=30\n",
    "\n",
    "This request submits form data containing name and age parameters to be processed by the server."
   ]
  },
  {
   "cell_type": "code",
   "execution_count": null,
   "id": "428c90fb-82cc-41c7-aa3d-0d1fb6ba6a60",
   "metadata": {},
   "outputs": [],
   "source": []
  },
  {
   "cell_type": "code",
   "execution_count": null,
   "id": "93e56333-f669-4857-9a85-344e30cd01e5",
   "metadata": {},
   "outputs": [],
   "source": [
    "Q2. Why is request used in Flask?"
   ]
  },
  {
   "cell_type": "code",
   "execution_count": null,
   "id": "443e530a-7ec4-437c-898c-722552d9eb9f",
   "metadata": {},
   "outputs": [],
   "source": [
    "request is used in Flask to access incoming request data from clients. It allows us to retrieve form data, query parameters, files, cookies, and other request-related information, enabling us to handle user input and create dynamic web applications.\n",
    "\n",
    "Reasons why \"request\" used in flask:\n",
    "\n",
    "(1)Accessing Data Sent by the Client\n",
    "\n",
    "1)Form Data:\n",
    "\n",
    "When a client submits a form using POST, the form data can be accessed via request.form.\n",
    "\n",
    "from flask import request\n",
    "\n",
    "@app.route('/submit', methods=['POST']) def submit(): name = request.form['name'] email = request.form['email'] return f'Name: {name}, Email: {email}'\n",
    "\n",
    "2)Query Parameters:\n",
    "\n",
    "For data sent via the URL (GET request), query parameters can be accessed using request.args. @app.route('/search') def search(): query = request.args.get('q') return f'Search query: {query}'\n",
    "\n",
    "3)JSON Data:\n",
    "\n",
    "If the client sends JSON data in a POST request, it can be accessed using request.json.\n",
    "\n",
    "@app.route('/api/data', methods=['POST']) def api_data(): data = request.json return f'Received data: {data}'\n",
    "\n",
    "4)File Uploads:\n",
    "\n",
    "Files uploaded by the client can be accessed using request.files.\n",
    "\n",
    "@app.route('/upload', methods=['POST']) def upload_file(): file = request.files['file'] file.save(f'/path/to/save/{file.filename}') return 'File uploaded successfully'\n",
    "\n",
    "(2)Accessing Request Metadata\n",
    "\n",
    "1)Request Headers:\n",
    "\n",
    "You can access the headers sent by the client using request.headers.\n",
    "\n",
    "@app.route('/headers') def headers(): user_agent = request.headers.get('User-Agent') return f'User-Agent: {user_agent}'\n",
    "\n",
    "2)Request Method:\n",
    "\n",
    "Determine the HTTP method (GET, POST, etc.) used by the client with request.method.\n",
    "\n",
    "@app.route('/method', methods=['GET', 'POST']) def method(): if request.method == 'POST': return 'This is a POST request' return 'This is a GET request'\n",
    "\n",
    "3)Cookies:\n",
    "\n",
    "Access cookies sent by the client using request.cookies.\n",
    "\n",
    "@app.route('/cookies') def cookies(): username = request.cookies.get('username') return f'Username cookie: {username}'\n",
    "\n",
    "(3) The request object helps handle various content types by providing appropriate attributes and methods to parse and retrieve the data sent by the client.\n",
    "\n",
    "(4)The request object is part of Flask's context variables, which means it is available globally within a request context without the need to pass it explicitly to functions and templates.\n",
    "\n",
    "there are multiple use of flask"
   ]
  },
  {
   "cell_type": "code",
   "execution_count": null,
   "id": "8374c139-fec6-4fd1-82dc-de57ae0fd8b5",
   "metadata": {},
   "outputs": [],
   "source": []
  },
  {
   "cell_type": "code",
   "execution_count": null,
   "id": "febc1e35-e462-4eda-9002-02160a03e860",
   "metadata": {},
   "outputs": [],
   "source": [
    "Q3. Why is redirect() used in Flask?"
   ]
  },
  {
   "cell_type": "code",
   "execution_count": null,
   "id": "c94374c8-af79-4096-818f-4cc41e6559b9",
   "metadata": {},
   "outputs": [],
   "source": [
    "redirect() is used in Flask to send a HTTP redirect response, guiding the client's browser to a different URL within the application or to an external URL. It is commonly used for handling form submissions, implementing the Post/Redirect/Get pattern, managing authentication, and redirecting users to other pages or external websites."
   ]
  },
  {
   "cell_type": "code",
   "execution_count": null,
   "id": "ec66efd6-f77f-4927-8b3c-b9c282059b84",
   "metadata": {},
   "outputs": [],
   "source": []
  },
  {
   "cell_type": "code",
   "execution_count": null,
   "id": "217bd586-6f9d-44b1-bc88-05864ca00575",
   "metadata": {},
   "outputs": [],
   "source": [
    "Q4. What are templates in Flask? Why is the render_template() function used?"
   ]
  },
  {
   "cell_type": "code",
   "execution_count": null,
   "id": "d067c2a3-ad02-4b0e-8905-03b51d4ef912",
   "metadata": {},
   "outputs": [],
   "source": [
    "In Flask, templates are used to separate the presentation logic (HTML, CSS, and some dynamic elements) from the application logic (Python code). Templates allow us to build dynamic web pages by combining static content with dynamic data. This separation of concerns makes our code more organized, maintainable, and easier to work with.\n",
    "\n",
    "The render_template() function in Flask is used to render these templates with dynamic data. It takes the template filename and any necessary data as input and generates the final HTML page that is sent to the client's browser. This separation of concerns and dynamic content generation make web development in Flask more organized and maintainable."
   ]
  },
  {
   "cell_type": "code",
   "execution_count": null,
   "id": "10739537-cdb6-48d9-82a9-2543e499a8c5",
   "metadata": {},
   "outputs": [],
   "source": []
  },
  {
   "cell_type": "code",
   "execution_count": null,
   "id": "a7cd51b3-23bd-4c78-8d48-869b4040f53c",
   "metadata": {},
   "outputs": [],
   "source": [
    "Q5. Create a simple API. Use Postman to test it. Attach the screenshot of the output in the Jupyter Notebook."
   ]
  },
  {
   "cell_type": "code",
   "execution_count": 2,
   "id": "a6ee3ef0-a449-42e6-a80d-3e5734f719ca",
   "metadata": {},
   "outputs": [
    {
     "name": "stdout",
     "output_type": "stream",
     "text": [
      "Collecting flask\n",
      "  Downloading flask-3.0.3-py3-none-any.whl (101 kB)\n",
      "\u001b[2K     \u001b[90m━━━━━━━━━━━━━━━━━━━━━━━━━━━━━━━━━━━━━━━\u001b[0m \u001b[32m101.7/101.7 kB\u001b[0m \u001b[31m4.0 MB/s\u001b[0m eta \u001b[36m0:00:00\u001b[0m\n",
      "\u001b[?25hRequirement already satisfied: click>=8.1.3 in /opt/conda/lib/python3.10/site-packages (from flask) (8.1.3)\n",
      "Collecting itsdangerous>=2.1.2\n",
      "  Downloading itsdangerous-2.2.0-py3-none-any.whl (16 kB)\n",
      "Collecting Werkzeug>=3.0.0\n",
      "  Downloading werkzeug-3.0.4-py3-none-any.whl (227 kB)\n",
      "\u001b[2K     \u001b[90m━━━━━━━━━━━━━━━━━━━━━━━━━━━━━━━━━━━━━━\u001b[0m \u001b[32m227.6/227.6 kB\u001b[0m \u001b[31m20.3 MB/s\u001b[0m eta \u001b[36m0:00:00\u001b[0m\n",
      "\u001b[?25hCollecting blinker>=1.6.2\n",
      "  Downloading blinker-1.8.2-py3-none-any.whl (9.5 kB)\n",
      "Requirement already satisfied: Jinja2>=3.1.2 in /opt/conda/lib/python3.10/site-packages (from flask) (3.1.2)\n",
      "Requirement already satisfied: MarkupSafe>=2.0 in /opt/conda/lib/python3.10/site-packages (from Jinja2>=3.1.2->flask) (2.1.1)\n",
      "Installing collected packages: Werkzeug, itsdangerous, blinker, flask\n",
      "  Attempting uninstall: blinker\n",
      "    Found existing installation: blinker 1.5\n",
      "    Uninstalling blinker-1.5:\n",
      "      Successfully uninstalled blinker-1.5\n",
      "Successfully installed Werkzeug-3.0.4 blinker-1.8.2 flask-3.0.3 itsdangerous-2.2.0\n",
      "Note: you may need to restart the kernel to use updated packages.\n"
     ]
    }
   ],
   "source": [
    "pip install flask\n"
   ]
  },
  {
   "cell_type": "code",
   "execution_count": null,
   "id": "9f0f6ab8-52b5-4323-8496-3edfb41e04be",
   "metadata": {},
   "outputs": [],
   "source": [
    "from flask import Flask, jsonify\n",
    "\n",
    "app = Flask(__name__)\n",
    "\n",
    "@app.route('/api/greet', methods=['GET'])\n",
    "def greet():\n",
    "    return jsonify({'message': 'Hello, world!'})\n",
    "\n",
    "if __name__ == '__main__':\n",
    "    app.run(debug=True)\n"
   ]
  },
  {
   "cell_type": "code",
   "execution_count": null,
   "id": "b22f69a9-c982-431b-96a6-691392e4f42b",
   "metadata": {},
   "outputs": [],
   "source": [
    "python app.py\n",
    "\n"
   ]
  }
 ],
 "metadata": {
  "kernelspec": {
   "display_name": "Python 3 (ipykernel)",
   "language": "python",
   "name": "python3"
  },
  "language_info": {
   "codemirror_mode": {
    "name": "ipython",
    "version": 3
   },
   "file_extension": ".py",
   "mimetype": "text/x-python",
   "name": "python",
   "nbconvert_exporter": "python",
   "pygments_lexer": "ipython3",
   "version": "3.10.8"
  }
 },
 "nbformat": 4,
 "nbformat_minor": 5
}
